{
 "cells": [
  {
   "cell_type": "code",
   "execution_count": 3,
   "metadata": {},
   "outputs": [
    {
     "data": {
      "text/html": [
       "<pre style=\"white-space:pre;overflow-x:auto;line-height:normal;font-family:Menlo,'DejaVu Sans Mono',consolas,'Courier New',monospace\">Manim Community <span style=\"color: #008000; text-decoration-color: #008000\">v0.16.0.post0</span>\n",
       "\n",
       "</pre>\n"
      ],
      "text/plain": [
       "Manim Community \u001b[32mv0.\u001b[0m\u001b[32m16.0\u001b[0m\u001b[32m.post0\u001b[0m\n",
       "\n"
      ]
     },
     "metadata": {},
     "output_type": "display_data"
    }
   ],
   "source": [
    "from manim import *\n",
    "import networkx as nx\n",
    "import numpy as np\n",
    "import copy"
   ]
  },
  {
   "cell_type": "code",
   "execution_count": 4,
   "metadata": {},
   "outputs": [
    {
     "name": "stdout",
     "output_type": "stream",
     "text": [
      "[2.0, 1.2000000000000002, 0.4, -0.4, -1.2000000000000002, -2.0]\n"
     ]
    }
   ],
   "source": [
    "def distribuir_coordenadas_uniformemente(n, dist):\n",
    "    puntos = []\n",
    "    \n",
    "    if n % 2 == 0:  # Si n es par, se divide uniformemente a ambos lados de 0.\n",
    "        cant_puntos_lado = n // 2\n",
    "        puntos_lado = [dist * (i - 1/2) for i in range(1, cant_puntos_lado + 1)]\n",
    "        \n",
    "    else:  # Si n es impar, se coloca un punto en 0 y se divide el resto uniformemente.\n",
    "        cant_puntos_lado = (n - 1) // 2\n",
    "        puntos_lado = [dist * i for i in range(1, cant_puntos_lado + 1)]\n",
    "        puntos += [0]\n",
    "    \n",
    "    # Distribuye puntos uniformemente arriba y abajo de 0 con una distancia de dist.\n",
    "    \n",
    "    puntos.extend(puntos_lado)\n",
    "    puntos.extend(-1* np.array(puntos_lado))\n",
    "\n",
    "    return sorted(puntos, reverse=True)\n",
    "\n",
    "#submatriz = distribuir_coordenadas_uniformemente(5, .8)\n",
    "#print(submatriz)"
   ]
  },
  {
   "cell_type": "code",
   "execution_count": 1,
   "metadata": {},
   "outputs": [],
   "source": [
    "def distribucion_posiciones(arreglo, comb_totales, dist = .8):\n",
    "    niveles_arbol = len(arreglo)\n",
    "    \n",
    "    # distancia entre cada nivel del arbol (en el )\n",
    "    dist_niveles = 2.2\n",
    "    \n",
    "    x = niveles_arbol * dist_niveles -4 # coordenada x de las hojas del arbol\n",
    "    \n",
    "    valores_y_ultimo_nivel = distribuir_coordenadas_uniformemente(comb_totales, dist)\n",
    "    \n",
    "    p = [(x, valor, 0) for valor in valores_y_ultimo_nivel]\n",
    "    puntos = []\n",
    "    puntos.append(p)\n",
    "    aristas =[]\n",
    "    valores_y_nivel_anterior = valores_y_ultimo_nivel\n",
    "    \n",
    "    for elementos_nivel in reversed(arreglo):\n",
    "        valores_y_nivel_actual = []\n",
    "        coordenadas_renglon = []\n",
    "        x -= dist_niveles\n",
    "        \n",
    "        for i in range(0, len(valores_y_nivel_anterior), elementos_nivel):\n",
    "            valor_y = round((valores_y_nivel_anterior[i] + valores_y_nivel_anterior[i + elementos_nivel - 1])/2,2)\n",
    "            valores_y_nivel_actual += [valor_y]\n",
    "            coordenadas_renglon.append((x, valor_y, 0))\n",
    "            \n",
    "            for j in range(i , i+ elementos_nivel):\n",
    "                par = [(x, -1*valor_y, -5), (x + dist_niveles, -1*valores_y_nivel_anterior[j], -5)]\n",
    "                aristas.insert(0,par)\n",
    "\n",
    "        puntos.insert(0, coordenadas_renglon)\n",
    "        valores_y_nivel_anterior = valores_y_nivel_actual\n",
    "        \n",
    "    return (puntos, aristas)\n",
    "\n",
    "#distribucion_vertical([2,3,1],6)"
   ]
  },
  {
   "cell_type": "code",
   "execution_count": 2,
   "metadata": {},
   "outputs": [],
   "source": [
    "def matriz_elementos_arbol_binario_3_niveles():\n",
    "    elementos_arbol_en_amplitud_BFS = [Tex(\"$(a+b)^3$\",font_size = 240),\n",
    "                     Tex(\"$a$\",font_size = 270), Tex(\"$b$\",font_size = 270),\n",
    "                     Tex(\"$a$\",font_size = 250), Tex(\"$b$\",font_size = 250),\n",
    "                     Tex(\"$a$\",font_size = 250), Tex(\"$b$\",font_size = 250),\n",
    "                     Tex(\"$a$\",font_size = 220), Tex(\"$b$\",font_size = 220),\n",
    "                     Tex(\"$a$\",font_size = 220), Tex(\"$b$\",font_size = 220),\n",
    "                     Tex(\"$a$\",font_size = 220), Tex(\"$b$\",font_size = 220),\n",
    "                     Tex(\"$a$\",font_size = 220), Tex(\"$b$\",font_size = 220),\n",
    "                     Tex(\"$a^3$\",font_size = 220), Tex(\"$a^2b$\",font_size = 220),\n",
    "                     Tex(\"$a^2b$\",font_size = 220), Tex(\"$ab^2$\",font_size = 220),\n",
    "                     Tex(\"$a^2b$\",font_size = 220), Tex(\"$ab^2$\",font_size = 220),\n",
    "                     Tex(\"$ab^2$\",font_size = 220), Tex(\"$b^3$\",font_size = 220),\n",
    "                     ]\n",
    "    \n",
    "    return elementos_arbol_en_amplitud_BFS"
   ]
  },
  {
   "cell_type": "code",
   "execution_count": 2,
   "metadata": {},
   "outputs": [],
   "source": [
    "def construir_arbol_decisiones_binario_3_niveles(decisiones_por_nivel, distancia_entre_posiciones = .8):\n",
    "    \"\"\"\n",
    "    Se crea un arbol con dos decisiones en tres niveles distintos con lo elementos en el arreglo \n",
    "    que se encuentra en matrizPermutacionesBin3\n",
    "    \n",
    "    Funcion reutlizada del video 2\n",
    "    \"\"\"\n",
    "    \n",
    "    # Cantidad de decisiones desde la ultima deicision a la primera, en este caso son iguales\n",
    "    decisiones_por_nivel=[2,2,2]\n",
    "    # Se agrega un uno al final para el primer elemento en el que no hay decision\n",
    "    decisiones_por_nivel.append(1)\n",
    "    \n",
    "    combinaciones_totales=np.prod(decisiones_por_nivel)\n",
    "    \n",
    "    coordenadas_elementos_arbol, aristas = distribucion_posiciones(decisiones_por_nivel, \n",
    "                                                                   combinaciones_totales, \n",
    "                                                                   distancia_entre_posiciones)\n",
    "    \n",
    "    elementos_arbol_en_amplitud_BFS = matriz_elementos_arbol_binario_3_niveles()\n",
    "    arbol_niveles = []\n",
    "    arbol = VGroup()\n",
    "    \n",
    "    k = 0\n",
    "    i = 0\n",
    "    j = 0\n",
    "    numAris = 1\n",
    "    for piso in coordenadas_elementos_arbol:\n",
    "        nivel = VGroup()\n",
    "        \n",
    "        for punto in piso:\n",
    "            sc = .4\n",
    "            if k == 1:\n",
    "                sc = .4\n",
    "            elementos_arbol_en_amplitud_BFS[i].move_to(punto).scale(sc)\n",
    "            arbol.add(elementos_arbol_en_amplitud_BFS[i])\n",
    "            nivel.add(elementos_arbol_en_amplitud_BFS[i])\n",
    "            i += 1\n",
    "            \n",
    "        if k < len(decisiones_por_nivel) - 1:\n",
    "            numAris *= decisiones_por_nivel[k]\n",
    "            r = 0\n",
    "            while j < len(aristas) and r < numAris:\n",
    "                edge = Line(start=aristas[j][0], end=aristas[j][1], color = GREEN_D)\n",
    "                edge.z_index = -5\n",
    "                #self.play(Write(edge))\n",
    "                arbol.add(edge)\n",
    "                nivel.add(edge)\n",
    "                j += 1\n",
    "                r += 1\n",
    "            \n",
    "        arbol_niveles.append(nivel)\n",
    "        k += 1\n",
    "\n",
    "    return (arbol_niveles, arbol, coordenadas_elementos_arbol)"
   ]
  },
  {
   "cell_type": "code",
   "execution_count": 11,
   "metadata": {},
   "outputs": [],
   "source": [
    "def crear_arbol_por_niveles(self,arbol_niveles):\n",
    "    for obj in arbol_niveles:\n",
    "        group = VGroup(*obj)\n",
    "        self.add(group)\n",
    "        self.play(Write(group))"
   ]
  }
 ],
 "metadata": {
  "kernelspec": {
   "display_name": "Python 3",
   "language": "python",
   "name": "python3"
  },
  "language_info": {
   "codemirror_mode": {
    "name": "ipython",
    "version": 3
   },
   "file_extension": ".py",
   "mimetype": "text/x-python",
   "name": "python",
   "nbconvert_exporter": "python",
   "pygments_lexer": "ipython3",
   "version": "3.7.3"
  }
 },
 "nbformat": 4,
 "nbformat_minor": 5
}
